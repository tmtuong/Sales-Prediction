{
  "nbformat": 4,
  "nbformat_minor": 0,
  "metadata": {
    "colab": {
      "provenance": []
    },
    "kernelspec": {
      "name": "python3",
      "display_name": "Python 3"
    },
    "language_info": {
      "name": "python"
    }
  },
  "cells": [
    {
      "cell_type": "code",
      "execution_count": 1,
      "metadata": {
        "colab": {
          "base_uri": "https://localhost:8080/"
        },
        "id": "02Y_PAhDwep9",
        "outputId": "ae8579a8-37ef-41ea-8ff6-74aa5a5119b5"
      },
      "outputs": [
        {
          "output_type": "stream",
          "name": "stdout",
          "text": [
            "Looking in indexes: https://pypi.org/simple, https://us-python.pkg.dev/colab-wheels/public/simple/\n",
            "Collecting pygsheets\n",
            "  Downloading pygsheets-2.0.6-py3-none-any.whl (158 kB)\n",
            "\u001b[2K     \u001b[90m━━━━━━━━━━━━━━━━━━━━━━━━━━━━━━━━━━━━━━━\u001b[0m \u001b[32m158.2/158.2 kB\u001b[0m \u001b[31m3.8 MB/s\u001b[0m eta \u001b[36m0:00:00\u001b[0m\n",
            "\u001b[?25hRequirement already satisfied: google-api-python-client>=2.50.0 in /usr/local/lib/python3.9/dist-packages (from pygsheets) (2.84.0)\n",
            "Requirement already satisfied: google-auth-oauthlib>=0.7.1 in /usr/local/lib/python3.9/dist-packages (from pygsheets) (1.0.0)\n",
            "Requirement already satisfied: google-auth-httplib2>=0.1.0 in /usr/local/lib/python3.9/dist-packages (from google-api-python-client>=2.50.0->pygsheets) (0.1.0)\n",
            "Requirement already satisfied: google-auth<3.0.0dev,>=1.19.0 in /usr/local/lib/python3.9/dist-packages (from google-api-python-client>=2.50.0->pygsheets) (2.17.3)\n",
            "Requirement already satisfied: httplib2<1dev,>=0.15.0 in /usr/local/lib/python3.9/dist-packages (from google-api-python-client>=2.50.0->pygsheets) (0.21.0)\n",
            "Requirement already satisfied: uritemplate<5,>=3.0.1 in /usr/local/lib/python3.9/dist-packages (from google-api-python-client>=2.50.0->pygsheets) (4.1.1)\n",
            "Requirement already satisfied: google-api-core!=2.0.*,!=2.1.*,!=2.2.*,!=2.3.0,<3.0.0dev,>=1.31.5 in /usr/local/lib/python3.9/dist-packages (from google-api-python-client>=2.50.0->pygsheets) (2.11.0)\n",
            "Requirement already satisfied: requests-oauthlib>=0.7.0 in /usr/local/lib/python3.9/dist-packages (from google-auth-oauthlib>=0.7.1->pygsheets) (1.3.1)\n",
            "Requirement already satisfied: requests<3.0.0dev,>=2.18.0 in /usr/local/lib/python3.9/dist-packages (from google-api-core!=2.0.*,!=2.1.*,!=2.2.*,!=2.3.0,<3.0.0dev,>=1.31.5->google-api-python-client>=2.50.0->pygsheets) (2.27.1)\n",
            "Requirement already satisfied: protobuf!=3.20.0,!=3.20.1,!=4.21.0,!=4.21.1,!=4.21.2,!=4.21.3,!=4.21.4,!=4.21.5,<5.0.0dev,>=3.19.5 in /usr/local/lib/python3.9/dist-packages (from google-api-core!=2.0.*,!=2.1.*,!=2.2.*,!=2.3.0,<3.0.0dev,>=1.31.5->google-api-python-client>=2.50.0->pygsheets) (3.20.3)\n",
            "Requirement already satisfied: googleapis-common-protos<2.0dev,>=1.56.2 in /usr/local/lib/python3.9/dist-packages (from google-api-core!=2.0.*,!=2.1.*,!=2.2.*,!=2.3.0,<3.0.0dev,>=1.31.5->google-api-python-client>=2.50.0->pygsheets) (1.59.0)\n",
            "Requirement already satisfied: pyasn1-modules>=0.2.1 in /usr/local/lib/python3.9/dist-packages (from google-auth<3.0.0dev,>=1.19.0->google-api-python-client>=2.50.0->pygsheets) (0.2.8)\n",
            "Requirement already satisfied: cachetools<6.0,>=2.0.0 in /usr/local/lib/python3.9/dist-packages (from google-auth<3.0.0dev,>=1.19.0->google-api-python-client>=2.50.0->pygsheets) (5.3.0)\n",
            "Requirement already satisfied: six>=1.9.0 in /usr/local/lib/python3.9/dist-packages (from google-auth<3.0.0dev,>=1.19.0->google-api-python-client>=2.50.0->pygsheets) (1.16.0)\n",
            "Requirement already satisfied: rsa<5,>=3.1.4 in /usr/local/lib/python3.9/dist-packages (from google-auth<3.0.0dev,>=1.19.0->google-api-python-client>=2.50.0->pygsheets) (4.9)\n",
            "Requirement already satisfied: pyparsing!=3.0.0,!=3.0.1,!=3.0.2,!=3.0.3,<4,>=2.4.2 in /usr/local/lib/python3.9/dist-packages (from httplib2<1dev,>=0.15.0->google-api-python-client>=2.50.0->pygsheets) (3.0.9)\n",
            "Requirement already satisfied: oauthlib>=3.0.0 in /usr/local/lib/python3.9/dist-packages (from requests-oauthlib>=0.7.0->google-auth-oauthlib>=0.7.1->pygsheets) (3.2.2)\n",
            "Requirement already satisfied: pyasn1<0.5.0,>=0.4.6 in /usr/local/lib/python3.9/dist-packages (from pyasn1-modules>=0.2.1->google-auth<3.0.0dev,>=1.19.0->google-api-python-client>=2.50.0->pygsheets) (0.4.8)\n",
            "Requirement already satisfied: certifi>=2017.4.17 in /usr/local/lib/python3.9/dist-packages (from requests<3.0.0dev,>=2.18.0->google-api-core!=2.0.*,!=2.1.*,!=2.2.*,!=2.3.0,<3.0.0dev,>=1.31.5->google-api-python-client>=2.50.0->pygsheets) (2022.12.7)\n",
            "Requirement already satisfied: urllib3<1.27,>=1.21.1 in /usr/local/lib/python3.9/dist-packages (from requests<3.0.0dev,>=2.18.0->google-api-core!=2.0.*,!=2.1.*,!=2.2.*,!=2.3.0,<3.0.0dev,>=1.31.5->google-api-python-client>=2.50.0->pygsheets) (1.26.15)\n",
            "Requirement already satisfied: charset-normalizer~=2.0.0 in /usr/local/lib/python3.9/dist-packages (from requests<3.0.0dev,>=2.18.0->google-api-core!=2.0.*,!=2.1.*,!=2.2.*,!=2.3.0,<3.0.0dev,>=1.31.5->google-api-python-client>=2.50.0->pygsheets) (2.0.12)\n",
            "Requirement already satisfied: idna<4,>=2.5 in /usr/local/lib/python3.9/dist-packages (from requests<3.0.0dev,>=2.18.0->google-api-core!=2.0.*,!=2.1.*,!=2.2.*,!=2.3.0,<3.0.0dev,>=1.31.5->google-api-python-client>=2.50.0->pygsheets) (3.4)\n",
            "Installing collected packages: pygsheets\n",
            "Successfully installed pygsheets-2.0.6\n"
          ]
        }
      ],
      "source": [
        "!pip install pygsheets"
      ]
    },
    {
      "cell_type": "code",
      "source": [
        "import pandas as pd\n",
        "import pygsheets"
      ],
      "metadata": {
        "id": "AgZBGdwOwpXk"
      },
      "execution_count": 2,
      "outputs": []
    },
    {
      "cell_type": "code",
      "source": [
        "client = pygsheets.authorize(service_file='/content/refined-grammar-372209-b3fbc4b10ebf.json')\n",
        "sh = client.open('ML Data')\n",
        "cus_wks = sh.worksheet_by_title('Customer')\n",
        "sale_wks = sh.worksheet_by_title('Sales')\n",
        "product_wks = sh.worksheet_by_title('Product')"
      ],
      "metadata": {
        "id": "rySpIKSLwlkw"
      },
      "execution_count": 4,
      "outputs": []
    },
    {
      "cell_type": "code",
      "source": [
        "customer = cus_wks.get_as_df()\n",
        "sales = sale_wks.get_as_df()\n",
        "product = product_wks.get_as_df()"
      ],
      "metadata": {
        "id": "6Hcf-cNcwrtv"
      },
      "execution_count": 5,
      "outputs": []
    },
    {
      "cell_type": "code",
      "source": [
        "temp_df = pd.merge(customer,sales,right_on='CustomerKey',left_on='CustomerKey', how = 'right')\n",
        "df = pd.merge(product,temp_df,right_on='ProductKey',left_on='ProductKey', how = 'right')"
      ],
      "metadata": {
        "id": "1DN7MNr8ws84"
      },
      "execution_count": 6,
      "outputs": []
    },
    {
      "cell_type": "code",
      "source": [
        "df_gb = df.groupby('CustomerKey')['OrderNumber'].nunique().reset_index()\n",
        "df_gb['OrderNumber'].value_counts()"
      ],
      "metadata": {
        "colab": {
          "base_uri": "https://localhost:8080/"
        },
        "id": "1MogKKIXwtoo",
        "outputId": "195285d9-d576-4947-91dd-fc993f1b1d8f"
      },
      "execution_count": 7,
      "outputs": [
        {
          "output_type": "execute_result",
          "data": {
            "text/plain": [
              "1     11559\n",
              "2      4692\n",
              "3       983\n",
              "4       114\n",
              "5        27\n",
              "15        8\n",
              "16        6\n",
              "24        6\n",
              "26        5\n",
              "6         5\n",
              "7         4\n",
              "25        2\n",
              "17        2\n",
              "13        2\n",
              "23        1\n",
              "Name: OrderNumber, dtype: int64"
            ]
          },
          "metadata": {},
          "execution_count": 7
        }
      ]
    },
    {
      "cell_type": "code",
      "source": [
        "lst = df_gb[df_gb['OrderNumber']==1]['CustomerKey'].values\n",
        "one_time = []\n",
        "for i in range(0,len(df)):\n",
        "  if df.loc[i,'CustomerKey'] in list(lst):\n",
        "    one_time.append(i)\n",
        "\n",
        "len(one_time)"
      ],
      "metadata": {
        "colab": {
          "base_uri": "https://localhost:8080/"
        },
        "id": "zv6wQzvWxOn0",
        "outputId": "6364cfcd-73b7-49ef-8175-64faac5df826"
      },
      "execution_count": 14,
      "outputs": [
        {
          "output_type": "execute_result",
          "data": {
            "text/plain": [
              "27712"
            ]
          },
          "metadata": {},
          "execution_count": 14
        }
      ]
    },
    {
      "cell_type": "markdown",
      "source": [
        "Bộ dữ liệu ghi nhận hơn 17000 khách hàng tuy nhiên số lượng khách chỉ mua một lần chiếm đến hơn 11500 khách và chiếm tới 1/2 dữ liệu bán hàng được ghi nhận, vì vậy cách tiếp cận phân tích hành vi khách hàng không tối ưu cho bộ dữ liệu này"
      ],
      "metadata": {
        "id": "Ul4wBy58yIX6"
      }
    }
  ]
}